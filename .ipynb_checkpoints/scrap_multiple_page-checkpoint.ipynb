{
 "cells": [
  {
   "cell_type": "code",
   "execution_count": 1,
   "metadata": {},
   "outputs": [],
   "source": [
    "from requests import get\n",
    "from bs4 import BeautifulSoup as bs"
   ]
  },
  {
   "cell_type": "markdown",
   "metadata": {},
   "source": [
    "### Generating only for first 5 pages and for years 2010-2020"
   ]
  },
  {
   "cell_type": "code",
   "execution_count": 2,
   "metadata": {},
   "outputs": [],
   "source": [
    "pages = [str(i) for i in range(1,6)]\n",
    "years_ = [str(i) for i in range(2010,2021)]"
   ]
  },
  {
   "cell_type": "markdown",
   "metadata": {},
   "source": [
    "### This will take few minutes to execute as it is scraping almost 55 pages"
   ]
  },
  {
   "cell_type": "code",
   "execution_count": 3,
   "metadata": {},
   "outputs": [],
   "source": [
    "names = []\n",
    "years = []\n",
    "imdb_ratings= []\n",
    "metascores = []\n",
    "votes =[]\n",
    "\n",
    "# For every Year from 2010-2020\n",
    "for year_ in years_:\n",
    "    # For every page from 1-5\n",
    "    for page in pages:\n",
    "        # Get Request\n",
    "        response = get('https://www.imdb.com/search/title/?release_date='+year_+\n",
    "                       '&sort=num_votes,desc&page='+page)\n",
    "        pageHTML_soup = bs(response.text, 'html.parser')\n",
    "        # storing 50 movies info on current page\n",
    "        movie_arr = pageHTML_soup.find_all('div', class_ = 'lister-item mode-advanced')\n",
    "        \n",
    "        # For every movie in stored movies\n",
    "        for mov in movie_arr:\n",
    "            # If the movie has a Metascore, then:\n",
    "            if mov.find('div', class_ = 'ratings-metascore') is not None:\n",
    "        # Name of movie\n",
    "                name = mov.h3.a.text\n",
    "                names.append(name)\n",
    "        # Year of the movie\n",
    "                yr = mov.h3.find('span', class_ = 'lister-item-year').text\n",
    "                years.append(yr)\n",
    "        # IMDB rating\n",
    "                imdb = float(mov.strong.text)\n",
    "                imdb_ratings.append(imdb)\n",
    "        # Metascore\n",
    "                ms = mov.find('span',  class_ = 'metascore').text\n",
    "                metascores.append(int(ms))\n",
    "        # Number of votes\n",
    "                vote = mov.find('span', attrs = {'name' : 'nv'})['data-value']\n",
    "                votes.append(int(vote))\n",
    "                "
   ]
  },
  {
   "cell_type": "code",
   "execution_count": 4,
   "metadata": {},
   "outputs": [
    {
     "name": "stdout",
     "output_type": "stream",
     "text": [
      "<class 'pandas.core.frame.DataFrame'>\n",
      "RangeIndex: 2365 entries, 0 to 2364\n",
      "Data columns (total 5 columns):\n",
      " #   Column     Non-Null Count  Dtype  \n",
      "---  ------     --------------  -----  \n",
      " 0   movie      2365 non-null   object \n",
      " 1   year       2365 non-null   object \n",
      " 2   rating     2365 non-null   float64\n",
      " 3   metascore  2365 non-null   int64  \n",
      " 4   votes      2365 non-null   int64  \n",
      "dtypes: float64(1), int64(2), object(2)\n",
      "memory usage: 92.5+ KB\n"
     ]
    }
   ],
   "source": [
    "import pandas as pd\n",
    "\n",
    "#storing the information as a DataFrame\n",
    "imdb_ = pd.DataFrame({'movie' : names,\n",
    "                      'year' : years,\n",
    "                      'rating' : imdb_ratings,\n",
    "                      'metascore' : metascores,\n",
    "                      'votes' : votes\n",
    "                     })\n",
    "imdb_.info()"
   ]
  },
  {
   "cell_type": "code",
   "execution_count": 5,
   "metadata": {},
   "outputs": [
    {
     "data": {
      "text/html": [
       "<div>\n",
       "<style scoped>\n",
       "    .dataframe tbody tr th:only-of-type {\n",
       "        vertical-align: middle;\n",
       "    }\n",
       "\n",
       "    .dataframe tbody tr th {\n",
       "        vertical-align: top;\n",
       "    }\n",
       "\n",
       "    .dataframe thead th {\n",
       "        text-align: right;\n",
       "    }\n",
       "</style>\n",
       "<table border=\"1\" class=\"dataframe\">\n",
       "  <thead>\n",
       "    <tr style=\"text-align: right;\">\n",
       "      <th></th>\n",
       "      <th>movie</th>\n",
       "      <th>year</th>\n",
       "      <th>rating</th>\n",
       "      <th>metascore</th>\n",
       "      <th>votes</th>\n",
       "    </tr>\n",
       "  </thead>\n",
       "  <tbody>\n",
       "    <tr>\n",
       "      <th>0</th>\n",
       "      <td>Inception</td>\n",
       "      <td>(2010)</td>\n",
       "      <td>8.8</td>\n",
       "      <td>74</td>\n",
       "      <td>2003125</td>\n",
       "    </tr>\n",
       "    <tr>\n",
       "      <th>1</th>\n",
       "      <td>Shutter Island</td>\n",
       "      <td>(2010)</td>\n",
       "      <td>8.2</td>\n",
       "      <td>63</td>\n",
       "      <td>1096120</td>\n",
       "    </tr>\n",
       "    <tr>\n",
       "      <th>2</th>\n",
       "      <td>Toy Story 3</td>\n",
       "      <td>(2010)</td>\n",
       "      <td>8.3</td>\n",
       "      <td>92</td>\n",
       "      <td>739785</td>\n",
       "    </tr>\n",
       "    <tr>\n",
       "      <th>3</th>\n",
       "      <td>Iron Man 2</td>\n",
       "      <td>(2010)</td>\n",
       "      <td>7.0</td>\n",
       "      <td>57</td>\n",
       "      <td>706331</td>\n",
       "    </tr>\n",
       "    <tr>\n",
       "      <th>4</th>\n",
       "      <td>Black Swan</td>\n",
       "      <td>(2010)</td>\n",
       "      <td>8.0</td>\n",
       "      <td>79</td>\n",
       "      <td>686201</td>\n",
       "    </tr>\n",
       "  </tbody>\n",
       "</table>\n",
       "</div>"
      ],
      "text/plain": [
       "            movie    year  rating  metascore    votes\n",
       "0       Inception  (2010)     8.8         74  2003125\n",
       "1  Shutter Island  (2010)     8.2         63  1096120\n",
       "2     Toy Story 3  (2010)     8.3         92   739785\n",
       "3      Iron Man 2  (2010)     7.0         57   706331\n",
       "4      Black Swan  (2010)     8.0         79   686201"
      ]
     },
     "execution_count": 5,
     "metadata": {},
     "output_type": "execute_result"
    }
   ],
   "source": [
    "imdb_.head()"
   ]
  },
  {
   "cell_type": "code",
   "execution_count": 6,
   "metadata": {},
   "outputs": [
    {
     "data": {
      "text/plain": [
       "array(['(2010)', '(I) (2010)', '(2011)', '(I) (2011)', '(2012)',\n",
       "       '(I) (2012)', '(2013)', '(I) (2013)', '(2014)', '(I) (2014)',\n",
       "       '(II) (2014)', '(2015)', '(I) (2015)', '(II) (2015)', '(2016)',\n",
       "       '(II) (2016)', '(IX) (2016)', '(I) (2016)', '(2017)', '(I) (2017)',\n",
       "       '(2018)', '(I) (2018)', '(III) (2018)', '(2019)', '(II) (2019)',\n",
       "       '(I) (2019)', '(2020)', '(I) (2020)', '(II) (2020)'], dtype=object)"
      ]
     },
     "execution_count": 6,
     "metadata": {},
     "output_type": "execute_result"
    }
   ],
   "source": [
    "imdb_['year'].unique()"
   ]
  },
  {
   "cell_type": "code",
   "execution_count": 7,
   "metadata": {},
   "outputs": [],
   "source": [
    "imdb_.loc[:,'year'] = imdb_['year'].str[-5:-1].astype(int)"
   ]
  },
  {
   "cell_type": "code",
   "execution_count": 8,
   "metadata": {},
   "outputs": [
    {
     "data": {
      "text/plain": [
       "0    2010\n",
       "1    2010\n",
       "2    2010\n",
       "3    2010\n",
       "4    2010\n",
       "Name: year, dtype: int32"
      ]
     },
     "execution_count": 8,
     "metadata": {},
     "output_type": "execute_result"
    }
   ],
   "source": [
    "imdb_['year'].head()"
   ]
  },
  {
   "cell_type": "code",
   "execution_count": 9,
   "metadata": {},
   "outputs": [
    {
     "data": {
      "text/html": [
       "<div>\n",
       "<style scoped>\n",
       "    .dataframe tbody tr th:only-of-type {\n",
       "        vertical-align: middle;\n",
       "    }\n",
       "\n",
       "    .dataframe tbody tr th {\n",
       "        vertical-align: top;\n",
       "    }\n",
       "\n",
       "    .dataframe thead th {\n",
       "        text-align: right;\n",
       "    }\n",
       "</style>\n",
       "<table border=\"1\" class=\"dataframe\">\n",
       "  <thead>\n",
       "    <tr style=\"text-align: right;\">\n",
       "      <th></th>\n",
       "      <th>year</th>\n",
       "      <th>rating</th>\n",
       "      <th>metascore</th>\n",
       "      <th>votes</th>\n",
       "    </tr>\n",
       "  </thead>\n",
       "  <tbody>\n",
       "    <tr>\n",
       "      <th>count</th>\n",
       "      <td>2365.000000</td>\n",
       "      <td>2365.000000</td>\n",
       "      <td>2365.000000</td>\n",
       "      <td>2.365000e+03</td>\n",
       "    </tr>\n",
       "    <tr>\n",
       "      <th>mean</th>\n",
       "      <td>2014.725159</td>\n",
       "      <td>7.094292</td>\n",
       "      <td>64.651163</td>\n",
       "      <td>3.322536e+05</td>\n",
       "    </tr>\n",
       "    <tr>\n",
       "      <th>std</th>\n",
       "      <td>3.054175</td>\n",
       "      <td>0.735944</td>\n",
       "      <td>15.481379</td>\n",
       "      <td>2.224823e+05</td>\n",
       "    </tr>\n",
       "    <tr>\n",
       "      <th>min</th>\n",
       "      <td>2010.000000</td>\n",
       "      <td>4.100000</td>\n",
       "      <td>22.000000</td>\n",
       "      <td>2.140000e+04</td>\n",
       "    </tr>\n",
       "    <tr>\n",
       "      <th>25%</th>\n",
       "      <td>2012.000000</td>\n",
       "      <td>6.600000</td>\n",
       "      <td>53.000000</td>\n",
       "      <td>1.933540e+05</td>\n",
       "    </tr>\n",
       "    <tr>\n",
       "      <th>50%</th>\n",
       "      <td>2015.000000</td>\n",
       "      <td>7.100000</td>\n",
       "      <td>65.000000</td>\n",
       "      <td>2.665150e+05</td>\n",
       "    </tr>\n",
       "    <tr>\n",
       "      <th>75%</th>\n",
       "      <td>2017.000000</td>\n",
       "      <td>7.600000</td>\n",
       "      <td>76.000000</td>\n",
       "      <td>4.183940e+05</td>\n",
       "    </tr>\n",
       "    <tr>\n",
       "      <th>max</th>\n",
       "      <td>2020.000000</td>\n",
       "      <td>8.800000</td>\n",
       "      <td>100.000000</td>\n",
       "      <td>2.003125e+06</td>\n",
       "    </tr>\n",
       "  </tbody>\n",
       "</table>\n",
       "</div>"
      ],
      "text/plain": [
       "              year       rating    metascore         votes\n",
       "count  2365.000000  2365.000000  2365.000000  2.365000e+03\n",
       "mean   2014.725159     7.094292    64.651163  3.322536e+05\n",
       "std       3.054175     0.735944    15.481379  2.224823e+05\n",
       "min    2010.000000     4.100000    22.000000  2.140000e+04\n",
       "25%    2012.000000     6.600000    53.000000  1.933540e+05\n",
       "50%    2015.000000     7.100000    65.000000  2.665150e+05\n",
       "75%    2017.000000     7.600000    76.000000  4.183940e+05\n",
       "max    2020.000000     8.800000   100.000000  2.003125e+06"
      ]
     },
     "execution_count": 9,
     "metadata": {},
     "output_type": "execute_result"
    }
   ],
   "source": [
    "imdb_.describe()"
   ]
  },
  {
   "cell_type": "code",
   "execution_count": 10,
   "metadata": {},
   "outputs": [],
   "source": [
    "imdb_.to_csv('imdb_movie_ratings_mpages.csv')"
   ]
  },
  {
   "cell_type": "code",
   "execution_count": null,
   "metadata": {},
   "outputs": [],
   "source": []
  }
 ],
 "metadata": {
  "kernelspec": {
   "display_name": "Python 3",
   "language": "python",
   "name": "python3"
  },
  "language_info": {
   "codemirror_mode": {
    "name": "ipython",
    "version": 3
   },
   "file_extension": ".py",
   "mimetype": "text/x-python",
   "name": "python",
   "nbconvert_exporter": "python",
   "pygments_lexer": "ipython3",
   "version": "3.7.4"
  }
 },
 "nbformat": 4,
 "nbformat_minor": 2
}
