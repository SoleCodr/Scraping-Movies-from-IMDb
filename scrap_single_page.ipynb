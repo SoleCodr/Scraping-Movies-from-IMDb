{
 "cells": [
  {
   "cell_type": "code",
   "execution_count": 1,
   "metadata": {},
   "outputs": [],
   "source": [
    "from requests import get\n",
    "from bs4 import BeautifulSoup as bs"
   ]
  },
  {
   "cell_type": "code",
   "execution_count": 2,
   "metadata": {},
   "outputs": [],
   "source": [
    "url = 'https://www.imdb.com/search/title/?release_date=2019&sort=num_votes,desc&page=1'\n",
    "response = get(url)"
   ]
  },
  {
   "cell_type": "code",
   "execution_count": 3,
   "metadata": {},
   "outputs": [
    {
     "data": {
      "text/plain": [
       "bs4.BeautifulSoup"
      ]
     },
     "execution_count": 3,
     "metadata": {},
     "output_type": "execute_result"
    }
   ],
   "source": [
    "html_soup =  bs(response.text, 'html.parser')\n",
    "type(html_soup)"
   ]
  },
  {
   "cell_type": "code",
   "execution_count": 4,
   "metadata": {},
   "outputs": [
    {
     "name": "stdout",
     "output_type": "stream",
     "text": [
      "<class 'bs4.element.ResultSet'>\n"
     ]
    },
    {
     "data": {
      "text/plain": [
       "50"
      ]
     },
     "execution_count": 4,
     "metadata": {},
     "output_type": "execute_result"
    }
   ],
   "source": [
    "movie_arr = html_soup.find_all('div', class_ = 'lister-item mode-advanced')\n",
    "print(type(movie_arr))\n",
    "len(movie_arr)"
   ]
  },
  {
   "cell_type": "markdown",
   "metadata": {},
   "source": [
    "total 50 div classes"
   ]
  },
  {
   "cell_type": "code",
   "execution_count": 5,
   "metadata": {},
   "outputs": [],
   "source": [
    "names = []\n",
    "years = []\n",
    "imdb_ratings= []\n",
    "metascores = []\n",
    "votes =[]\n",
    "genres = []\n",
    "\n",
    "for item in movie_arr:\n",
    "    if item.find('div', class_ = 'ratings-metascore') is not None:\n",
    "# Name of movie\n",
    "        name = item.h3.a.text\n",
    "        names.append(name)\n",
    "# Year of the movie\n",
    "        yr = item.h3.find('span', class_ = 'lister-item-year').text\n",
    "        years.append(yr)\n",
    "# IMDB rating\n",
    "        imdb = float(item.strong.text)\n",
    "        imdb_ratings.append(imdb)\n",
    "# Metascore\n",
    "        ms = item.find('span',  class_ = 'metascore').text\n",
    "        metascores.append(int(ms))\n",
    "# Number of votes\n",
    "        vote = item.find('span', attrs = {'name' : 'nv'})['data-value']\n",
    "        votes.append(int(vote))\n",
    "# Genre of the movie\n",
    "        genre = item.find('span', class_ = 'genre').text\n",
    "        genres.append(genre)"
   ]
  },
  {
   "cell_type": "markdown",
   "metadata": {},
   "source": [
    "Saving all in a data frame"
   ]
  },
  {
   "cell_type": "code",
   "execution_count": 6,
   "metadata": {},
   "outputs": [
    {
     "name": "stdout",
     "output_type": "stream",
     "text": [
      "<class 'pandas.core.frame.DataFrame'>\n",
      "RangeIndex: 40 entries, 0 to 39\n",
      "Data columns (total 6 columns):\n",
      " #   Column     Non-Null Count  Dtype  \n",
      "---  ------     --------------  -----  \n",
      " 0   movie      40 non-null     object \n",
      " 1   year       40 non-null     object \n",
      " 2   rating     40 non-null     float64\n",
      " 3   metascore  40 non-null     int64  \n",
      " 4   votes      40 non-null     int64  \n",
      " 5   genres     40 non-null     object \n",
      "dtypes: float64(1), int64(2), object(3)\n",
      "memory usage: 2.0+ KB\n"
     ]
    }
   ],
   "source": [
    "import pandas as pd\n",
    "imdb_ = pd.DataFrame({'movie' : names,\n",
    "                      'year' : years,\n",
    "                      'rating' : imdb_ratings,\n",
    "                      'metascore' : metascores,\n",
    "                      'votes' : votes,\n",
    "                      'genres' : genres\n",
    "                     })\n",
    "imdb_.info()"
   ]
  },
  {
   "cell_type": "code",
   "execution_count": 7,
   "metadata": {},
   "outputs": [
    {
     "data": {
      "text/html": [
       "<div>\n",
       "<style scoped>\n",
       "    .dataframe tbody tr th:only-of-type {\n",
       "        vertical-align: middle;\n",
       "    }\n",
       "\n",
       "    .dataframe tbody tr th {\n",
       "        vertical-align: top;\n",
       "    }\n",
       "\n",
       "    .dataframe thead th {\n",
       "        text-align: right;\n",
       "    }\n",
       "</style>\n",
       "<table border=\"1\" class=\"dataframe\">\n",
       "  <thead>\n",
       "    <tr style=\"text-align: right;\">\n",
       "      <th></th>\n",
       "      <th>movie</th>\n",
       "      <th>year</th>\n",
       "      <th>rating</th>\n",
       "      <th>metascore</th>\n",
       "      <th>votes</th>\n",
       "      <th>genres</th>\n",
       "    </tr>\n",
       "  </thead>\n",
       "  <tbody>\n",
       "    <tr>\n",
       "      <th>0</th>\n",
       "      <td>Joker</td>\n",
       "      <td>(2019)</td>\n",
       "      <td>8.5</td>\n",
       "      <td>59</td>\n",
       "      <td>856761</td>\n",
       "      <td>\\nCrime, Drama, Thriller</td>\n",
       "    </tr>\n",
       "    <tr>\n",
       "      <th>1</th>\n",
       "      <td>Avengers: Endgame</td>\n",
       "      <td>(2019)</td>\n",
       "      <td>8.4</td>\n",
       "      <td>78</td>\n",
       "      <td>755906</td>\n",
       "      <td>\\nAction, Adventure, Drama</td>\n",
       "    </tr>\n",
       "    <tr>\n",
       "      <th>2</th>\n",
       "      <td>Once Upon a Time... in Hollywood</td>\n",
       "      <td>(2019)</td>\n",
       "      <td>7.6</td>\n",
       "      <td>83</td>\n",
       "      <td>507965</td>\n",
       "      <td>\\nComedy, Drama</td>\n",
       "    </tr>\n",
       "    <tr>\n",
       "      <th>3</th>\n",
       "      <td>Gisaengchung</td>\n",
       "      <td>(2019)</td>\n",
       "      <td>8.6</td>\n",
       "      <td>96</td>\n",
       "      <td>472208</td>\n",
       "      <td>\\nComedy, Drama, Thriller</td>\n",
       "    </tr>\n",
       "    <tr>\n",
       "      <th>4</th>\n",
       "      <td>Captain Marvel</td>\n",
       "      <td>(2019)</td>\n",
       "      <td>6.9</td>\n",
       "      <td>64</td>\n",
       "      <td>422980</td>\n",
       "      <td>\\nAction, Adventure, Sci-Fi</td>\n",
       "    </tr>\n",
       "  </tbody>\n",
       "</table>\n",
       "</div>"
      ],
      "text/plain": [
       "                              movie    year  rating  metascore   votes  \\\n",
       "0                             Joker  (2019)     8.5         59  856761   \n",
       "1                 Avengers: Endgame  (2019)     8.4         78  755906   \n",
       "2  Once Upon a Time... in Hollywood  (2019)     7.6         83  507965   \n",
       "3                      Gisaengchung  (2019)     8.6         96  472208   \n",
       "4                    Captain Marvel  (2019)     6.9         64  422980   \n",
       "\n",
       "                                    genres  \n",
       "0     \\nCrime, Drama, Thriller              \n",
       "1   \\nAction, Adventure, Drama              \n",
       "2              \\nComedy, Drama              \n",
       "3    \\nComedy, Drama, Thriller              \n",
       "4  \\nAction, Adventure, Sci-Fi              "
      ]
     },
     "execution_count": 7,
     "metadata": {},
     "output_type": "execute_result"
    }
   ],
   "source": [
    "imdb_.head()"
   ]
  },
  {
   "cell_type": "code",
   "execution_count": 8,
   "metadata": {},
   "outputs": [
    {
     "data": {
      "text/plain": [
       "array(['(2019)', '(II) (2019)', '(I) (2019)'], dtype=object)"
      ]
     },
     "execution_count": 8,
     "metadata": {},
     "output_type": "execute_result"
    }
   ],
   "source": [
    "imdb_['year'].unique()"
   ]
  },
  {
   "cell_type": "code",
   "execution_count": 9,
   "metadata": {},
   "outputs": [],
   "source": [
    "imdb_.loc[:,'year'] = imdb_['year'].str[-5:-1].astype(int)"
   ]
  },
  {
   "cell_type": "code",
   "execution_count": 10,
   "metadata": {},
   "outputs": [],
   "source": [
    "imdb_['genres'] = imdb_['genres'].replace('\\n',' ', regex=True)"
   ]
  },
  {
   "cell_type": "code",
   "execution_count": 11,
   "metadata": {},
   "outputs": [
    {
     "data": {
      "text/html": [
       "<div>\n",
       "<style scoped>\n",
       "    .dataframe tbody tr th:only-of-type {\n",
       "        vertical-align: middle;\n",
       "    }\n",
       "\n",
       "    .dataframe tbody tr th {\n",
       "        vertical-align: top;\n",
       "    }\n",
       "\n",
       "    .dataframe thead th {\n",
       "        text-align: right;\n",
       "    }\n",
       "</style>\n",
       "<table border=\"1\" class=\"dataframe\">\n",
       "  <thead>\n",
       "    <tr style=\"text-align: right;\">\n",
       "      <th></th>\n",
       "      <th>movie</th>\n",
       "      <th>year</th>\n",
       "      <th>rating</th>\n",
       "      <th>metascore</th>\n",
       "      <th>votes</th>\n",
       "      <th>genres</th>\n",
       "    </tr>\n",
       "  </thead>\n",
       "  <tbody>\n",
       "    <tr>\n",
       "      <th>0</th>\n",
       "      <td>Joker</td>\n",
       "      <td>2019</td>\n",
       "      <td>8.5</td>\n",
       "      <td>59</td>\n",
       "      <td>856761</td>\n",
       "      <td>Crime, Drama, Thriller</td>\n",
       "    </tr>\n",
       "    <tr>\n",
       "      <th>1</th>\n",
       "      <td>Avengers: Endgame</td>\n",
       "      <td>2019</td>\n",
       "      <td>8.4</td>\n",
       "      <td>78</td>\n",
       "      <td>755906</td>\n",
       "      <td>Action, Adventure, Drama</td>\n",
       "    </tr>\n",
       "    <tr>\n",
       "      <th>2</th>\n",
       "      <td>Once Upon a Time... in Hollywood</td>\n",
       "      <td>2019</td>\n",
       "      <td>7.6</td>\n",
       "      <td>83</td>\n",
       "      <td>507965</td>\n",
       "      <td>Comedy, Drama</td>\n",
       "    </tr>\n",
       "    <tr>\n",
       "      <th>3</th>\n",
       "      <td>Gisaengchung</td>\n",
       "      <td>2019</td>\n",
       "      <td>8.6</td>\n",
       "      <td>96</td>\n",
       "      <td>472208</td>\n",
       "      <td>Comedy, Drama, Thriller</td>\n",
       "    </tr>\n",
       "    <tr>\n",
       "      <th>4</th>\n",
       "      <td>Captain Marvel</td>\n",
       "      <td>2019</td>\n",
       "      <td>6.9</td>\n",
       "      <td>64</td>\n",
       "      <td>422980</td>\n",
       "      <td>Action, Adventure, Sci-Fi</td>\n",
       "    </tr>\n",
       "  </tbody>\n",
       "</table>\n",
       "</div>"
      ],
      "text/plain": [
       "                              movie  year  rating  metascore   votes  \\\n",
       "0                             Joker  2019     8.5         59  856761   \n",
       "1                 Avengers: Endgame  2019     8.4         78  755906   \n",
       "2  Once Upon a Time... in Hollywood  2019     7.6         83  507965   \n",
       "3                      Gisaengchung  2019     8.6         96  472208   \n",
       "4                    Captain Marvel  2019     6.9         64  422980   \n",
       "\n",
       "                                   genres  \n",
       "0      Crime, Drama, Thriller              \n",
       "1    Action, Adventure, Drama              \n",
       "2               Comedy, Drama              \n",
       "3     Comedy, Drama, Thriller              \n",
       "4   Action, Adventure, Sci-Fi              "
      ]
     },
     "execution_count": 11,
     "metadata": {},
     "output_type": "execute_result"
    }
   ],
   "source": [
    "imdb_.head()"
   ]
  },
  {
   "cell_type": "code",
   "execution_count": 12,
   "metadata": {},
   "outputs": [],
   "source": [
    "imdb_.to_csv('imdb_movie_ratings.csv')"
   ]
  }
 ],
 "metadata": {
  "kernelspec": {
   "display_name": "Python 3",
   "language": "python",
   "name": "python3"
  },
  "language_info": {
   "codemirror_mode": {
    "name": "ipython",
    "version": 3
   },
   "file_extension": ".py",
   "mimetype": "text/x-python",
   "name": "python",
   "nbconvert_exporter": "python",
   "pygments_lexer": "ipython3",
   "version": "3.7.4"
  }
 },
 "nbformat": 4,
 "nbformat_minor": 2
}
